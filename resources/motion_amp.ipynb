{
 "cells": [
  {
   "cell_type": "code",
   "execution_count": null,
   "metadata": {},
   "outputs": [],
   "source": [
    "import cv2\n",
    "import numpy as np\n",
    "\n",
    "def process_frame(frame, buffer, alpha, beta):\n",
    "    avg_intensity = np.mean(buffer, axis=0)\n",
    "    diff = frame - avg_intensity\n",
    "    output_frame = beta * frame + alpha * diff\n",
    "    output_frame = np.clip(output_frame, 0, 255)\n",
    "    return output_frame.astype(np.uint8)\n",
    "\n",
    "cap = cv2.VideoCapture('pulse.mp4')\n",
    "\n",
    "alpha = 2\n",
    "beta = 0.7\n",
    "m = 3        \n",
    "\n",
    "buffer = []\n",
    "\n",
    "fps = int(cap.get(cv2.CAP_PROP_FPS))\n",
    "frame_width = int(cap.get(cv2.CAP_PROP_FRAME_WIDTH))\n",
    "frame_height = int(cap.get(cv2.CAP_PROP_FRAME_HEIGHT))\n",
    "fourcc = cv2.VideoWriter_fourcc(*'XVID')\n",
    "out = cv2.VideoWriter('output_video_pulse.avi', fourcc, fps, (frame_width, frame_height))\n",
    "\n",
    "while cap.isOpened():\n",
    "    ret, frame = cap.read()\n",
    "    if not ret:\n",
    "        break\n",
    "    \n",
    "    frame = frame.astype(np.float32)\n",
    "    \n",
    "    if len(buffer) < m:\n",
    "        buffer.append(frame)\n",
    "        continue\n",
    "    \n",
    "    if len(buffer) == m:\n",
    "        processed_frame = process_frame(frame, np.array(buffer), alpha, beta)\n",
    "        out.write(processed_frame)\n",
    "        cv2.imshow('MEMAD Filter', processed_frame)\n",
    "    \n",
    "    buffer.pop(0)\n",
    "    buffer.append(frame)\n",
    "    \n",
    "    if cv2.waitKey(1) & 0xFF == ord('q'):\n",
    "        break\n",
    "\n",
    "cap.release()\n",
    "out.release()\n",
    "cv2.destroyAllWindows()"
   ]
  }
 ],
 "metadata": {
  "language_info": {
   "name": "python"
  }
 },
 "nbformat": 4,
 "nbformat_minor": 2
}
